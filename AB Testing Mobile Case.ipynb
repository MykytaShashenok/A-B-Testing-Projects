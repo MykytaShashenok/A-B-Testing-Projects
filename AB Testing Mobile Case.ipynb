{
 "cells": [
  {
   "cell_type": "code",
   "execution_count": 1,
   "id": "00dd57f5",
   "metadata": {},
   "outputs": [],
   "source": [
    "import math\n",
    "import numpy as np\n",
    "import pandas as pd\n",
    "import scipy.stats as stats\n",
    "from statsmodels.stats.proportion import proportions_ztest\n",
    "import random"
   ]
  },
  {
   "cell_type": "markdown",
   "id": "61d7275e",
   "metadata": {},
   "source": [
    "In a project where users purchase in-game currency for real money, the design team has proposed redesigning the payment screen for mobile devices to increase the number of transactions. The new version started being implemented on a group of users starting from July 24th at 00:00. The base version was retained for a portion of the users. Based on the payment data, we have to answer following question:\n",
    "\n",
    "__Should the innovation be implemented for everyone or should it be rejected?__"
   ]
  },
  {
   "cell_type": "markdown",
   "id": "32e2c68f",
   "metadata": {},
   "source": [
    "Let's load our dataset containing complete user information using Pandas"
   ]
  },
  {
   "cell_type": "code",
   "execution_count": 4,
   "id": "518a867a",
   "metadata": {},
   "outputs": [
    {
     "data": {
      "text/html": [
       "<div>\n",
       "<style scoped>\n",
       "    .dataframe tbody tr th:only-of-type {\n",
       "        vertical-align: middle;\n",
       "    }\n",
       "\n",
       "    .dataframe tbody tr th {\n",
       "        vertical-align: top;\n",
       "    }\n",
       "\n",
       "    .dataframe thead th {\n",
       "        text-align: right;\n",
       "    }\n",
       "</style>\n",
       "<table border=\"1\" class=\"dataframe\">\n",
       "  <thead>\n",
       "    <tr style=\"text-align: right;\">\n",
       "      <th></th>\n",
       "      <th>id_user</th>\n",
       "      <th>gender</th>\n",
       "      <th>date_reg</th>\n",
       "      <th>platform</th>\n",
       "      <th>id_traffic_source</th>\n",
       "      <th>country_group</th>\n",
       "      <th>age_group</th>\n",
       "      <th>system</th>\n",
       "      <th>date_payment</th>\n",
       "      <th>method</th>\n",
       "      <th>amount</th>\n",
       "      <th>successful_payment</th>\n",
       "      <th>split_group</th>\n",
       "    </tr>\n",
       "  </thead>\n",
       "  <tbody>\n",
       "    <tr>\n",
       "      <th>0</th>\n",
       "      <td>21e32a673252ae39cc68d0f0a5da14b3bd4d13355b7098...</td>\n",
       "      <td>female</td>\n",
       "      <td>2021-07-16 02:06:45</td>\n",
       "      <td>mobile</td>\n",
       "      <td>Alderaan</td>\n",
       "      <td>1</td>\n",
       "      <td>3</td>\n",
       "      <td>Android</td>\n",
       "      <td>NaN</td>\n",
       "      <td>NaN</td>\n",
       "      <td>NaN</td>\n",
       "      <td>NaN</td>\n",
       "      <td>0</td>\n",
       "    </tr>\n",
       "    <tr>\n",
       "      <th>1</th>\n",
       "      <td>7c10f6579762217e505adcd1d39cfde05a32a566edcfb8...</td>\n",
       "      <td>male</td>\n",
       "      <td>2021-07-17 01:48:29</td>\n",
       "      <td>mobile</td>\n",
       "      <td>Mandalore</td>\n",
       "      <td>2</td>\n",
       "      <td>1</td>\n",
       "      <td>Android</td>\n",
       "      <td>NaN</td>\n",
       "      <td>NaN</td>\n",
       "      <td>NaN</td>\n",
       "      <td>NaN</td>\n",
       "      <td>0</td>\n",
       "    </tr>\n",
       "    <tr>\n",
       "      <th>2</th>\n",
       "      <td>eb48efe2760f26d57e6cc835f663054815c37ddfcc95a7...</td>\n",
       "      <td>female</td>\n",
       "      <td>2021-07-17 05:05:10</td>\n",
       "      <td>mobile</td>\n",
       "      <td>Alderaan</td>\n",
       "      <td>1</td>\n",
       "      <td>3</td>\n",
       "      <td>Android</td>\n",
       "      <td>NaN</td>\n",
       "      <td>NaN</td>\n",
       "      <td>NaN</td>\n",
       "      <td>NaN</td>\n",
       "      <td>0</td>\n",
       "    </tr>\n",
       "    <tr>\n",
       "      <th>3</th>\n",
       "      <td>4047dc22673448be39086342345d470442ae0b519adf4c...</td>\n",
       "      <td>female</td>\n",
       "      <td>2021-07-02 11:21:50</td>\n",
       "      <td>mobile</td>\n",
       "      <td>Mandalore</td>\n",
       "      <td>1</td>\n",
       "      <td>4</td>\n",
       "      <td>iOS</td>\n",
       "      <td>NaN</td>\n",
       "      <td>NaN</td>\n",
       "      <td>NaN</td>\n",
       "      <td>NaN</td>\n",
       "      <td>0</td>\n",
       "    </tr>\n",
       "    <tr>\n",
       "      <th>4</th>\n",
       "      <td>255ec0d0e1bac8c474827de94d99cf1661ac1e424c91e1...</td>\n",
       "      <td>female</td>\n",
       "      <td>2021-07-02 17:59:34</td>\n",
       "      <td>desktop</td>\n",
       "      <td>Coruscant</td>\n",
       "      <td>4</td>\n",
       "      <td>3</td>\n",
       "      <td>Windows</td>\n",
       "      <td>NaN</td>\n",
       "      <td>NaN</td>\n",
       "      <td>NaN</td>\n",
       "      <td>NaN</td>\n",
       "      <td>0</td>\n",
       "    </tr>\n",
       "  </tbody>\n",
       "</table>\n",
       "</div>"
      ],
      "text/plain": [
       "                                             id_user  gender  \\\n",
       "0  21e32a673252ae39cc68d0f0a5da14b3bd4d13355b7098...  female   \n",
       "1  7c10f6579762217e505adcd1d39cfde05a32a566edcfb8...    male   \n",
       "2  eb48efe2760f26d57e6cc835f663054815c37ddfcc95a7...  female   \n",
       "3  4047dc22673448be39086342345d470442ae0b519adf4c...  female   \n",
       "4  255ec0d0e1bac8c474827de94d99cf1661ac1e424c91e1...  female   \n",
       "\n",
       "              date_reg platform id_traffic_source  country_group  age_group  \\\n",
       "0  2021-07-16 02:06:45   mobile          Alderaan              1          3   \n",
       "1  2021-07-17 01:48:29   mobile         Mandalore              2          1   \n",
       "2  2021-07-17 05:05:10   mobile          Alderaan              1          3   \n",
       "3  2021-07-02 11:21:50   mobile         Mandalore              1          4   \n",
       "4  2021-07-02 17:59:34  desktop         Coruscant              4          3   \n",
       "\n",
       "    system date_payment method  amount  successful_payment  split_group  \n",
       "0  Android          NaN    NaN     NaN                 NaN            0  \n",
       "1  Android          NaN    NaN     NaN                 NaN            0  \n",
       "2  Android          NaN    NaN     NaN                 NaN            0  \n",
       "3      iOS          NaN    NaN     NaN                 NaN            0  \n",
       "4  Windows          NaN    NaN     NaN                 NaN            0  "
      ]
     },
     "execution_count": 4,
     "metadata": {},
     "output_type": "execute_result"
    }
   ],
   "source": [
    "user_df = pd.read_csv(r'C:\\Users\\Микита\\Desktop\\Test\\raw_data.csv')\n",
    "\n",
    "user_df.head()"
   ]
  },
  {
   "cell_type": "code",
   "execution_count": 20,
   "id": "6fdcc038",
   "metadata": {},
   "outputs": [
    {
     "data": {
      "text/plain": [
       "(58938, 13)"
      ]
     },
     "execution_count": 20,
     "metadata": {},
     "output_type": "execute_result"
    }
   ],
   "source": [
    "user_df.shape"
   ]
  },
  {
   "cell_type": "markdown",
   "id": "0b7b2c08",
   "metadata": {},
   "source": [
    "According to the conditions of the A/B test, we are investigating user behavior specifically on mobile platforms. Therefore, we need to create a new table that includes only those who access the platform from their phones."
   ]
  },
  {
   "cell_type": "code",
   "execution_count": 21,
   "id": "78d882b8",
   "metadata": {},
   "outputs": [
    {
     "data": {
      "text/plain": [
       "(46619, 13)"
      ]
     },
     "execution_count": 21,
     "metadata": {},
     "output_type": "execute_result"
    }
   ],
   "source": [
    "mobile_users_df = user_df[user_df['platform'] == 'mobile']\n",
    "\n",
    "mobile_users_df.head()\n",
    "mobile_users_df.shape"
   ]
  },
  {
   "cell_type": "markdown",
   "id": "2e1b2da1",
   "metadata": {},
   "source": [
    "As we can see in this case, number of users for new table is significantly different from the original table"
   ]
  },
  {
   "cell_type": "markdown",
   "id": "e54ce996",
   "metadata": {},
   "source": [
    "First, let's extract the test and control groups from the table and count number of users in both."
   ]
  },
  {
   "cell_type": "code",
   "execution_count": 22,
   "id": "5a9de8e2",
   "metadata": {},
   "outputs": [
    {
     "name": "stdout",
     "output_type": "stream",
     "text": [
      "test.shape = (6680, 13)\n",
      "control.shape = (39939, 13)\n"
     ]
    }
   ],
   "source": [
    "test = mobile_users_df[mobile_users_df['split_group'] == 1]\n",
    "control = mobile_users_df[mobile_users_df['split_group'] == 0]\n",
    "\n",
    "print(f'{test.shape = }')\n",
    "print(f'{control.shape = }')"
   ]
  },
  {
   "cell_type": "markdown",
   "id": "71a751b7",
   "metadata": {},
   "source": [
    "We can observe that the sample sizes of the two groups differ significantly, which is not acceptable for testing purposes. This means that we need to somehow select a subset of users from the control group that has a similar size to the test group. We can do this either by randomly selecting users or by using stratified sampling. Let's try both methods.\n",
    "For test clearity we will choose only those users that are or did not make payment or this payment was only after the start of experiment."
   ]
  },
  {
   "cell_type": "code",
   "execution_count": 43,
   "id": "0796d5d0",
   "metadata": {},
   "outputs": [
    {
     "name": "stderr",
     "output_type": "stream",
     "text": [
      "C:\\Users\\Микита\\AppData\\Local\\Temp\\ipykernel_15548\\2890397640.py:1: SettingWithCopyWarning: \n",
      "A value is trying to be set on a copy of a slice from a DataFrame.\n",
      "Try using .loc[row_indexer,col_indexer] = value instead\n",
      "\n",
      "See the caveats in the documentation: https://pandas.pydata.org/pandas-docs/stable/user_guide/indexing.html#returning-a-view-versus-a-copy\n",
      "  control['date_payment'] = pd.to_datetime(control['date_payment'], errors ='coerce')\n"
     ]
    },
    {
     "data": {
      "text/plain": [
       "(573, 950)"
      ]
     },
     "execution_count": 43,
     "metadata": {},
     "output_type": "execute_result"
    }
   ],
   "source": [
    "control['date_payment'] = pd.to_datetime(control['date_payment'], errors ='coerce')\n",
    "\n",
    "# Set the threshold date for filtering\n",
    "threshold_date = pd.to_datetime('2021-07-24')\n",
    "\n",
    "# Filter and select a random subset of rows\n",
    "filtered_df = control[(control['date_payment'].isna()) | (control['date_payment'] >= threshold_date)]\n",
    "control_group = filtered_df.sample(n = test.shape[0])\n",
    "\n",
    "payments_control = control_group[control_group['date_payment'].notna()].shape[0]\n",
    "payments_test = test[test['date_payment'].notna()].shape[0]\n",
    "\n",
    "(payments_control, payments_test)"
   ]
  },
  {
   "cell_type": "markdown",
   "id": "4c14130f",
   "metadata": {},
   "source": [
    "Now, let's simple calculate conversions for both groups:"
   ]
  },
  {
   "cell_type": "code",
   "execution_count": 45,
   "id": "e24a01a7",
   "metadata": {},
   "outputs": [
    {
     "data": {
      "text/plain": [
       "(0.08577844311377246, 0.14221556886227546)"
      ]
     },
     "execution_count": 45,
     "metadata": {},
     "output_type": "execute_result"
    }
   ],
   "source": [
    "conversion_control, conversions_test = payments_control/test.shape[0], payments_test/test.shape[0]\n",
    "\n",
    "conversion_control, conversions_test"
   ]
  },
  {
   "cell_type": "markdown",
   "id": "75112a94",
   "metadata": {},
   "source": [
    "So, in this A/B test, we need to determine whether the new design variant of the application will have a higher conversion rate than before or not. As a result, we have the following hypothesis: $$H_{0}: C_{B} = C_{A};\\\\H_{1}: C_{B} > C_{A}.$$ For testing proportions, the best approach is to use the so-called Z-test, as it is better suited for testing proportions."
   ]
  },
  {
   "cell_type": "code",
   "execution_count": 18,
   "id": "ab45b86a",
   "metadata": {},
   "outputs": [],
   "source": [
    "def z_test(conversions1, sample_size1, conversions2, sample_size2):\n",
    "    p1 = conversions1 / sample_size1\n",
    "    p2 = conversions2 / sample_size2\n",
    "\n",
    "    p_combined = (conversions1 + conversions2) / (sample_size1 + sample_size2)\n",
    "    standard_error = math.sqrt(p_combined * (1 - p_combined) * ((1 / sample_size1) + (1 / sample_size2)))\n",
    "\n",
    "    z_score = (p1 - p2) / standard_error\n",
    "    p_value = 1 - stats.norm.cdf(z_score)\n",
    "\n",
    "    return z_score, p_value"
   ]
  },
  {
   "cell_type": "markdown",
   "id": "ed31f534",
   "metadata": {},
   "source": [
    "Now let's move on to calculating the necessary sample size for conducting an experiment.\n",
    "\n",
    "There are several factors to consider when determining the sample size for an experiment. These factors include the desired level of confidence, the desired level of precision, the expected effect size, and any anticipated variability in the data."
   ]
  },
  {
   "cell_type": "code",
   "execution_count": 25,
   "id": "354d3524",
   "metadata": {},
   "outputs": [],
   "source": [
    "def count_sample_size(first_type_error, second_type_error, delta, sigma):\n",
    "    power_index = (stats.norm.ppf(first_type_error / 2) + stats.norm.ppf(second_type_error)) ** 2\n",
    "    size = 2 * (sigma ** 2) * power_index / (delta ** 2)\n",
    "    \n",
    "    return int(size)"
   ]
  },
  {
   "cell_type": "code",
   "execution_count": 26,
   "id": "0fc17057",
   "metadata": {},
   "outputs": [
    {
     "name": "stdout",
     "output_type": "stream",
     "text": [
      "size = 9511\n"
     ]
    }
   ],
   "source": [
    "size = count_sample_size(0.05, 0.2, 0.0065, 0.16)\n",
    "\n",
    "print(f'{size = }')"
   ]
  },
  {
   "cell_type": "markdown",
   "id": "fd027bb7",
   "metadata": {},
   "source": [
    "Let's verify that at this sample size, the probabilities of errors are controlled at the specified levels. This can be done using synthetic A/A and A/B tests. We will generate pairs of samples with and without an effect and calculate the proportions of cases where the Z-test made a mistake. If the proportions of Type I and Type II ($\\alpha = 0.05$, $\\beta = 0.2$) errors match the ones we specified earlier, we can consider the criterion suitable for our futher work.\n",
    "\n",
    "The following method seems reasonable for the verification: for the A/A test, we will generate Bernoulli distributed data instead of continuous data, as we are comparing conversions that can be described as Bernoulli random variables."
   ]
  },
  {
   "cell_type": "code",
   "execution_count": 50,
   "id": "415393d5",
   "metadata": {},
   "outputs": [],
   "source": [
    "def verify_criterion(sample_size, cycle_lenght, alpha):\n",
    "    first_type_errors = []\n",
    "    \n",
    "    for _ in range(cycle_lenght):\n",
    "        control = np.random.binomial(1, 1 / 4, sample_size)\n",
    "        test = np.random.binomial(1, 1 / 4, sample_size)\n",
    "        \n",
    "        conversion_control = np.sum(control)\n",
    "        conversion_test = np.sum(test)\n",
    "    \n",
    "        _, pvalue_aa = z_test(conversion_control, sample_size, conversion_test, sample_size)\n",
    "        first_type_errors.append(pvalue_aa < alpha)\n",
    "    \n",
    "        part_first_type_errors = np.mean(first_type_errors)\n",
    "    \n",
    "    print(f'part_first_type_errors = {part_first_type_errors:0.3f}')\n",
    "    "
   ]
  },
  {
   "cell_type": "code",
   "execution_count": 51,
   "id": "e08f9e81",
   "metadata": {},
   "outputs": [
    {
     "name": "stdout",
     "output_type": "stream",
     "text": [
      "part_first_type_errors = 0.048\n"
     ]
    }
   ],
   "source": [
    "verify_criterion(size, 5000, 0.05)"
   ]
  },
  {
   "cell_type": "markdown",
   "id": "8ca101b6",
   "metadata": {},
   "source": [
    "As we can see, the criterion is working correctly. Of course, there may be some slight deviations due to the randomness of the sample generation, but in any case, they are sufficiently insignificant to have a strong impact on the experiment. On the other hand, if the error rate in our artificial A/A test significantly exceeded the threshold, it would be a bad sign. It would indicate that the test would make mistakes more often, and the probability of making an error would increase, which is something we definitely don't want as a business. However, if the rate of Type I errors were less than 0.05, it would be less concerning."
   ]
  },
  {
   "cell_type": "code",
   "execution_count": 52,
   "id": "af4afc8d",
   "metadata": {},
   "outputs": [
    {
     "data": {
      "text/plain": [
       "(24.436576977677692, 0.0)"
      ]
     },
     "execution_count": 52,
     "metadata": {},
     "output_type": "execute_result"
    }
   ],
   "source": [
    "z_test(conversions_control, test_group.shape[0], conversions_test, test_group.shape[0])"
   ]
  },
  {
   "cell_type": "markdown",
   "id": "272de67f",
   "metadata": {},
   "source": [
    "The p-value is practically zero, which allows us to conclude that the __null hypothesis of equal conversion should be rejected and the alternative hypothesis, stating that the conversion in the test group is greater than the conversion in the control group, should be accepted.__"
   ]
  },
  {
   "cell_type": "markdown",
   "id": "6c41138f",
   "metadata": {},
   "source": [
    "\n",
    "However, it is important to note the following: we have not yet examined the number of successful payments in both groups. Although we have payment data, we need to ensure that the payments were indeed successful. Otherwise, what is the point of introducing changes that do not lead to an increase in profit? Therefore, we will proceed as follows: we will test the conversions not only based on payment occurrences but also based on their successful completion. This will help us better understand the true observed effect."
   ]
  },
  {
   "cell_type": "code",
   "execution_count": 55,
   "id": "a81dc42f",
   "metadata": {},
   "outputs": [
    {
     "data": {
      "text/plain": [
       "(669, 4569)"
      ]
     },
     "execution_count": 55,
     "metadata": {},
     "output_type": "execute_result"
    }
   ],
   "source": [
    "new_control_conversion = control_group[control_group['successful_payment'] == 1]\n",
    "new_test_conversion  = test_group[test_group['successful_payment'] == 1]\n",
    "\n",
    "successful_payment_conversion_test = new_test_conversion.shape[0]\n",
    "successful_payment_conversion_control = new_control_conversion.shape[0]"
   ]
  },
  {
   "cell_type": "code",
   "execution_count": 49,
   "id": "fb8f971f",
   "metadata": {},
   "outputs": [
    {
     "data": {
      "text/plain": [
       "(7.698975085758187, 6.8833827526759706e-15)"
      ]
     },
     "execution_count": 49,
     "metadata": {},
     "output_type": "execute_result"
    }
   ],
   "source": [
    "z_test(successful_payment_conversion_test, test_group.shape[0], successful_payment_conversion_control, test_group.shape[0])"
   ]
  },
  {
   "cell_type": "markdown",
   "id": "31c95bd3",
   "metadata": {},
   "source": [
    "As we can see, in this case as well, we have a low p-value, which again allows us to reject the null hypothesis."
   ]
  },
  {
   "cell_type": "markdown",
   "id": "02791488",
   "metadata": {},
   "source": [
    "In the previous analysis, we considered all purchases made by users, including multiple purchases by the same individual. However, it is possible that the new design may influence the purchasing behavior of specific users, leading to increased activity. Let's now conduct the same test but consider __only unique purchases__. This will provide us with an understanding of how the modified version affects the entire player population as a whole."
   ]
  },
  {
   "cell_type": "code",
   "execution_count": 56,
   "id": "3d218124",
   "metadata": {},
   "outputs": [
    {
     "data": {
      "text/plain": [
       "(40515, 13)"
      ]
     },
     "execution_count": 56,
     "metadata": {},
     "output_type": "execute_result"
    }
   ],
   "source": [
    "dataset_unique = mobile_users_df.drop_duplicates(subset = ['id_user'])\n",
    "\n",
    "dataset_unique.shape"
   ]
  },
  {
   "cell_type": "code",
   "execution_count": 57,
   "id": "14ee3b8d",
   "metadata": {},
   "outputs": [
    {
     "name": "stdout",
     "output_type": "stream",
     "text": [
      "test_group_unique.shape = (5961, 13)\n",
      "control_group_unique.shape = (5961, 13)\n"
     ]
    }
   ],
   "source": [
    "test_group_unique = dataset_unique[dataset_unique['split_group'] == 1]\n",
    "control_group_unique = dataset_unique[dataset_unique['split_group'] == 0].sample( n = test_group_unique.shape[0])\n",
    "\n",
    "print(f'{test_group_unique.shape = }')\n",
    "print(f'{control_group_unique.shape = }')"
   ]
  },
  {
   "cell_type": "code",
   "execution_count": 58,
   "id": "cdae40fd",
   "metadata": {},
   "outputs": [
    {
     "name": "stdout",
     "output_type": "stream",
     "text": [
      "conversions_test_group_unique = 153.0\n",
      "conversions_control_group_unique = 123.0\n"
     ]
    }
   ],
   "source": [
    "conversions_test_group_unique = test_group_unique['successful_payment'].sum()\n",
    "conversions_control_group_unique = control_group_unique['successful_payment'].sum()\n",
    "\n",
    "size_unique = test_group_unique.shape[0]\n",
    "\n",
    "print(f'{conversions_test_group_unique = }')\n",
    "print(f'{conversions_control_group_unique = }')"
   ]
  },
  {
   "cell_type": "code",
   "execution_count": 59,
   "id": "de36e94d",
   "metadata": {},
   "outputs": [
    {
     "name": "stdout",
     "output_type": "stream",
     "text": [
      "p_value = 0.03384535219349505\n"
     ]
    }
   ],
   "source": [
    "z_score, p_value = z_test(conversions_test_group_unique, size_unique, conversions_control_group_unique, size_unique)\n",
    "\n",
    "print(f'{p_value = }')"
   ]
  },
  {
   "cell_type": "markdown",
   "id": "38dd4d27",
   "metadata": {},
   "source": [
    "How we can see here, $p-value$ is lower than $\\alpha = 0.05$, so we should reject the $H_{0}$ in case of unique values. However, let's build some confidence interval for our conversions"
   ]
  },
  {
   "cell_type": "code",
   "execution_count": 61,
   "id": "e93a70b4",
   "metadata": {},
   "outputs": [
    {
     "name": "stdout",
     "output_type": "stream",
     "text": [
      "Bootstrap 95% Confidence Interval for control group: [0.01694, 0.02432]\n",
      "Bootstrap 95% Confidence Interval for test group: [0.02164, 0.02970]\n"
     ]
    }
   ],
   "source": [
    "def bootstrap(data, number_bootstrap = 5000): #Performing bootstrap resampling on the data.\n",
    "    n_samples = len(data)\n",
    "    bootstrap_samples = []\n",
    "    \n",
    "    for _ in range(number_bootstrap):\n",
    "        sample = random.choices(data, k = n_samples)\n",
    "        bootstrap_samples.append(np.mean(sample))\n",
    "    \n",
    "    return bootstrap_samples\n",
    "\n",
    "payments_test_group = [1 if i == 1.0 else 0 for i in test_group_unique['successful_payment'].values]\n",
    "payments_control_group = [1 if i == 1.0 else 0 for i in control_group_unique['successful_payment'].values]\n",
    "\n",
    "bootstrap_samples_test = bootstrap(payments_test_group)\n",
    "bootstrap_samples_control = bootstrap(payments_control_group)\n",
    "\n",
    "confidence_interval_control = np.percentile(bootstrap_samples_control, [2.5, 97.5])\n",
    "confidence_interval_test = np.percentile(bootstrap_samples_test, [2.5, 97.5])\n",
    "\n",
    "print(\"Bootstrap 95% Confidence Interval for control group: [{:.5f}, {:.5f}]\".format(confidence_interval_control[0], confidence_interval_control[1]))\n",
    "print(\"Bootstrap 95% Confidence Interval for test group: [{:.5f}, {:.5f}]\".format(confidence_interval_test[0],confidence_interval_test[1]))"
   ]
  },
  {
   "cell_type": "markdown",
   "id": "79c2c84c",
   "metadata": {},
   "source": [
    "By constructing confidence intervals using the bootstrap technique, some details become clearer. Indeed, overall conversion rate appears to increase, judging by the confidence interval bounds."
   ]
  },
  {
   "cell_type": "markdown",
   "id": "98808fad",
   "metadata": {},
   "source": [
    "## Final Conclusions\n",
    "\n",
    "So, we conducted two versions of the conversion test for the control and test groups on mobile platforms, with the null hypothesis being that there is no difference in conversion and the alternative hypothesis being that the conversion rate for the test group is higher than that of the control group. In the first version, it was decided to conduct the test considering that users might make more than one purchase, whereas in the second version, we excluded such cases. It was found that in both versions, there is significant statistical evidence in favor of the alternative hypothesis. Confidence intervals for the conversions were also constructed for both groups in the second case. Therefore, overall, there is an increase in conversion for the entire population of unique users. The conclusion is as follows: due to the reasons mentioned above, __I would recommend implementing the new design__."
   ]
  }
 ],
 "metadata": {
  "kernelspec": {
   "display_name": "Python 3 (ipykernel)",
   "language": "python",
   "name": "python3"
  },
  "language_info": {
   "codemirror_mode": {
    "name": "ipython",
    "version": 3
   },
   "file_extension": ".py",
   "mimetype": "text/x-python",
   "name": "python",
   "nbconvert_exporter": "python",
   "pygments_lexer": "ipython3",
   "version": "3.10.0"
  }
 },
 "nbformat": 4,
 "nbformat_minor": 5
}
